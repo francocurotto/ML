{
 "cells": [
  {
   "cell_type": "code",
   "execution_count": 1,
   "id": "57f099ad",
   "metadata": {},
   "outputs": [],
   "source": [
    "from load_housing_data import *\n",
    "from split_train_test import *\n",
    "from sklearn.model_selection import train_test_split\n",
    "housing = load_housing_data()"
   ]
  },
  {
   "cell_type": "code",
   "execution_count": 2,
   "id": "0a606353",
   "metadata": {},
   "outputs": [
    {
     "name": "stdout",
     "output_type": "stream",
     "text": [
      "16512\n",
      "4128\n"
     ]
    }
   ],
   "source": [
    "train_set1, test_set1 = split_train_test(housing, 0.2)\n",
    "print(len(train_set1))\n",
    "print(len(test_set1))"
   ]
  },
  {
   "cell_type": "code",
   "execution_count": 3,
   "id": "b06f5395",
   "metadata": {
    "scrolled": false
   },
   "outputs": [
    {
     "name": "stdout",
     "output_type": "stream",
     "text": [
      "16512\n",
      "4128\n"
     ]
    }
   ],
   "source": [
    "housing_with_id = housing.reset_index() # adds an `index` column\n",
    "train_set2, test_set2 = split_train_test_by_id(housing_with_id, 0.2, \"index\")\n",
    "print(len(train_set2))\n",
    "print(len(test_set2))"
   ]
  },
  {
   "cell_type": "code",
   "execution_count": 4,
   "id": "bb6c105f",
   "metadata": {},
   "outputs": [
    {
     "name": "stdout",
     "output_type": "stream",
     "text": [
      "16512\n",
      "4128\n"
     ]
    }
   ],
   "source": [
    "train_set3, test_set3 = train_test_split(housing, test_size=0.2, random_state=42)\n",
    "print(len(train_set3))\n",
    "print(len(test_set3))"
   ]
  },
  {
   "cell_type": "code",
   "execution_count": 5,
   "id": "9725de04",
   "metadata": {},
   "outputs": [
    {
     "data": {
      "image/png": "[encoded data removed]",
      "text/plain": [
       "<Figure size 432x288 with 1 Axes>"
      ]
     },
     "metadata": {
      "needs_background": "light"
     },
     "output_type": "display_data"
    },
    {
     "name": "stdout",
     "output_type": "stream",
     "text": [
      "16512\n",
      "4128\n"
     ]
    }
   ],
   "source": [
    "%matplotlib inline\n",
    "import matplotlib.pyplot as plt\n",
    "housing_strat = stratify_income(housing)\n",
    "housing_strat[\"income_cat\"].hist()\n",
    "plt.show()\n",
    "train_set4, test_set4 = split_train_test_strat(housing_strat, 0.2, remove_cat=True)\n",
    "print(len(train_set4))\n",
    "print(len(test_set4))"
   ]
  },
  {
   "cell_type": "code",
   "execution_count": 6,
   "id": "5c31ffb3",
   "metadata": {
    "scrolled": true
   },
   "outputs": [
    {
     "data": {
      "text/html": [
       "<div>\n",
       "<style scoped>\n",
       "    .dataframe tbody tr th:only-of-type {\n",
       "        vertical-align: middle;\n",
       "    }\n",
       "\n",
       "    .dataframe tbody tr th {\n",
       "        vertical-align: top;\n",
       "    }\n",
       "\n",
       "    .dataframe thead th {\n",
       "        text-align: right;\n",
       "    }\n",
       "</style>\n",
       "<table border=\"1\" class=\"dataframe\">\n",
       "  <thead>\n",
       "    <tr style=\"text-align: right;\">\n",
       "      <th></th>\n",
       "      <th>housing</th>\n",
       "      <th>test_random</th>\n",
       "      <th>test_index</th>\n",
       "      <th>test_skl</th>\n",
       "      <th>test_strat</th>\n",
       "    </tr>\n",
       "  </thead>\n",
       "  <tbody>\n",
       "    <tr>\n",
       "      <th>1</th>\n",
       "      <td>0.039826</td>\n",
       "      <td>0.039729</td>\n",
       "      <td>0.041364</td>\n",
       "      <td>0.039729</td>\n",
       "      <td>0.039850</td>\n",
       "    </tr>\n",
       "    <tr>\n",
       "      <th>2</th>\n",
       "      <td>0.318847</td>\n",
       "      <td>0.317466</td>\n",
       "      <td>0.315891</td>\n",
       "      <td>0.317466</td>\n",
       "      <td>0.318859</td>\n",
       "    </tr>\n",
       "    <tr>\n",
       "      <th>3</th>\n",
       "      <td>0.350581</td>\n",
       "      <td>0.348595</td>\n",
       "      <td>0.351441</td>\n",
       "      <td>0.348595</td>\n",
       "      <td>0.350594</td>\n",
       "    </tr>\n",
       "    <tr>\n",
       "      <th>4</th>\n",
       "      <td>0.176308</td>\n",
       "      <td>0.178537</td>\n",
       "      <td>0.178234</td>\n",
       "      <td>0.178537</td>\n",
       "      <td>0.176296</td>\n",
       "    </tr>\n",
       "    <tr>\n",
       "      <th>5</th>\n",
       "      <td>0.114438</td>\n",
       "      <td>0.115673</td>\n",
       "      <td>0.113069</td>\n",
       "      <td>0.115673</td>\n",
       "      <td>0.114402</td>\n",
       "    </tr>\n",
       "  </tbody>\n",
       "</table>\n",
       "</div>"
      ],
      "text/plain": [
       "    housing  test_random  test_index  test_skl  test_strat\n",
       "1  0.039826     0.039729    0.041364  0.039729    0.039850\n",
       "2  0.318847     0.317466    0.315891  0.317466    0.318859\n",
       "3  0.350581     0.348595    0.351441  0.348595    0.350594\n",
       "4  0.176308     0.178537    0.178234  0.178537    0.176296\n",
       "5  0.114438     0.115673    0.113069  0.115673    0.114402"
      ]
     },
     "execution_count": 6,
     "metadata": {},
     "output_type": "execute_result"
    }
   ],
   "source": [
    "pd.options.mode.chained_assignment = None\n",
    "# stratify data\n",
    "housing_strat = stratify_income(housing)\n",
    "train_set1_strat = stratify_income(train_set1)\n",
    "train_set2_strat = stratify_income(train_set2)\n",
    "train_set3_strat = stratify_income(train_set3)\n",
    "train_set4_strat = stratify_income(train_set4)\n",
    "# compute proportions\n",
    "housing_prop = get_strat_prop(housing_strat)\n",
    "train_set1_prop = get_strat_prop(train_set1_strat)\n",
    "train_set2_prop = get_strat_prop(train_set2_strat)\n",
    "train_set3_prop = get_strat_prop(train_set3_strat)\n",
    "train_set4_prop = get_strat_prop(train_set4_strat)\n",
    "prop_table = pd.DataFrame(\n",
    "    {\"housing\"     : housing_prop,\n",
    "     \"test_random\" : train_set1_prop,\n",
    "     \"test_index\"  : train_set2_prop,\n",
    "     \"test_skl\"    : train_set3_prop,\n",
    "     \"test_strat\"  : train_set4_prop},\n",
    "    index=range(1,6))\n",
    "prop_table"
   ]
  },
  {
   "cell_type": "code",
   "execution_count": 7,
   "id": "3548a4f4",
   "metadata": {},
   "outputs": [
    {
     "data": {
      "text/html": [
       "<div>\n",
       "<style scoped>\n",
       "    .dataframe tbody tr th:only-of-type {\n",
       "        vertical-align: middle;\n",
       "    }\n",
       "\n",
       "    .dataframe tbody tr th {\n",
       "        vertical-align: top;\n",
       "    }\n",
       "\n",
       "    .dataframe thead th {\n",
       "        text-align: right;\n",
       "    }\n",
       "</style>\n",
       "<table border=\"1\" class=\"dataframe\">\n",
       "  <thead>\n",
       "    <tr style=\"text-align: right;\">\n",
       "      <th></th>\n",
       "      <th>test_random</th>\n",
       "      <th>test_index</th>\n",
       "      <th>test_skl</th>\n",
       "      <th>test_strat</th>\n",
       "    </tr>\n",
       "  </thead>\n",
       "  <tbody>\n",
       "    <tr>\n",
       "      <th>1</th>\n",
       "      <td>0.000097</td>\n",
       "      <td>-0.001538</td>\n",
       "      <td>0.000097</td>\n",
       "      <td>-0.000024</td>\n",
       "    </tr>\n",
       "    <tr>\n",
       "      <th>2</th>\n",
       "      <td>0.001381</td>\n",
       "      <td>0.002955</td>\n",
       "      <td>0.001381</td>\n",
       "      <td>-0.000012</td>\n",
       "    </tr>\n",
       "    <tr>\n",
       "      <th>3</th>\n",
       "      <td>0.001986</td>\n",
       "      <td>-0.000860</td>\n",
       "      <td>0.001986</td>\n",
       "      <td>-0.000012</td>\n",
       "    </tr>\n",
       "    <tr>\n",
       "      <th>4</th>\n",
       "      <td>-0.002229</td>\n",
       "      <td>-0.001926</td>\n",
       "      <td>-0.002229</td>\n",
       "      <td>0.000012</td>\n",
       "    </tr>\n",
       "    <tr>\n",
       "      <th>5</th>\n",
       "      <td>-0.001235</td>\n",
       "      <td>0.001369</td>\n",
       "      <td>-0.001235</td>\n",
       "      <td>0.000036</td>\n",
       "    </tr>\n",
       "  </tbody>\n",
       "</table>\n",
       "</div>"
      ],
      "text/plain": [
       "   test_random  test_index  test_skl  test_strat\n",
       "1     0.000097   -0.001538  0.000097   -0.000024\n",
       "2     0.001381    0.002955  0.001381   -0.000012\n",
       "3     0.001986   -0.000860  0.001986   -0.000012\n",
       "4    -0.002229   -0.001926 -0.002229    0.000012\n",
       "5    -0.001235    0.001369 -0.001235    0.000036"
      ]
     },
     "execution_count": 7,
     "metadata": {},
     "output_type": "execute_result"
    }
   ],
   "source": [
    "# compute error\n",
    "train_set1_error = housing_prop-train_set1_prop\n",
    "train_set2_error = housing_prop-train_set2_prop\n",
    "train_set3_error = housing_prop-train_set3_prop\n",
    "train_set4_error = housing_prop-train_set4_prop\n",
    "error_table = pd.DataFrame(\n",
    "     {\"test_random\" : train_set1_error,\n",
    "      \"test_index\"  : train_set2_error,\n",
    "      \"test_skl\"    : train_set3_error,\n",
    "      \"test_strat\"  : train_set4_error},\n",
    "    index=range(1,6))\n",
    "error_table"
   ]
  }
 ],
 "metadata": {
  "kernelspec": {
   "display_name": "Python 3 (ipykernel)",
   "language": "python",
   "name": "python3"
  },
  "language_info": {
   "codemirror_mode": {
    "name": "ipython",
    "version": 3
   },
   "file_extension": ".py",
   "mimetype": "text/x-python",
   "name": "python",
   "nbconvert_exporter": "python",
   "pygments_lexer": "ipython3",
   "version": "3.10.6"
  }
 },
 "nbformat": 4,
 "nbformat_minor": 5
}
