{
 "cells": [
  {
   "cell_type": "code",
   "execution_count": 5,
   "id": "1cb18e5e",
   "metadata": {},
   "outputs": [],
   "source": [
    "from load_housing_data import load_housing_data\n",
    "from split_train_test import split_train_test_strat\n",
    "housing = load_housing_data()\n",
    "housing_train, _ = split_train_test_strat(housing, 0.2, remove_cat=True)\n",
    "housing = housing_train.drop(\"median_house_value\", axis=1)\n",
    "housing_labels = housing_train[\"median_house_value\"].copy()"
   ]
  },
  {
   "cell_type": "code",
   "execution_count": 7,
   "id": "319e9063",
   "metadata": {},
   "outputs": [],
   "source": [
    "from preprocess_data import create_pipeline\n",
    "full_pipeline = create_pipeline(housing) \n",
    "housing_prepared = full_pipeline.fit_transform(housing)"
   ]
  },
  {
   "cell_type": "code",
   "execution_count": null,
   "id": "c241bad2",
   "metadata": {},
   "outputs": [],
   "source": []
  }
 ],
 "metadata": {
  "kernelspec": {
   "display_name": "Python 3 (ipykernel)",
   "language": "python",
   "name": "python3"
  },
  "language_info": {
   "codemirror_mode": {
    "name": "ipython",
    "version": 3
   },
   "file_extension": ".py",
   "mimetype": "text/x-python",
   "name": "python",
   "nbconvert_exporter": "python",
   "pygments_lexer": "ipython3",
   "version": "3.10.6"
  }
 },
 "nbformat": 4,
 "nbformat_minor": 5
}
