{
 "cells": [
  {
   "cell_type": "code",
   "execution_count": 1,
   "id": "1cb18e5e",
   "metadata": {},
   "outputs": [],
   "source": [
    "from load_housing_data import load_housing_data\n",
    "from split_train_test import split_train_test_strat\n",
    "housing = load_housing_data()\n",
    "housing, _ = split_train_test_strat(housing, 0.2, remove_cat=True)\n",
    "housing = housing.drop(\"median_house_value\", axis=1)\n",
    "housing_labels = [\"median_house_value\"].copy()"
   ]
  },
  {
   "cell_type": "code",
   "execution_count": 2,
   "id": "319e9063",
   "metadata": {},
   "outputs": [],
   "source": [
    "from preprocess_data import preprocess_data\n",
    "\n",
    "housing_prepared = preprocess_data(housing)"
   ]
  }
 ],
 "metadata": {
  "kernelspec": {
   "display_name": "Python 3 (ipykernel)",
   "language": "python",
   "name": "python3"
  },
  "language_info": {
   "codemirror_mode": {
    "name": "ipython",
    "version": 3
   },
   "file_extension": ".py",
   "mimetype": "text/x-python",
   "name": "python",
   "nbconvert_exporter": "python",
   "pygments_lexer": "ipython3",
   "version": "3.9.7"
  }
 },
 "nbformat": 4,
 "nbformat_minor": 5
}
