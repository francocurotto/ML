{
 "cells": [
  {
   "cell_type": "code",
   "execution_count": 4,
   "id": "f5613a76",
   "metadata": {},
   "outputs": [],
   "source": [
    "# get and prepare data\n",
    "import numpy as np\n",
    "from sklearn.metrics import mean_squared_error\n",
    "from sklearn.model_selection import cross_val_score\n",
    "from load_housing_data import load_housing_data\n",
    "from split_train_test import split_train_test_strat\n",
    "from preprocess_data import create_pipeline\n",
    "housing_full = load_housing_data() # get data\n",
    "strat_train_set, strat_test_set = split_train_test_strat(housing_full, 0.2, remove_cat=True) #split data\n",
    "housing = strat_train_set.drop(\"median_house_value\", axis=1)\n",
    "housing_labels = strat_train_set[\"median_house_value\"].copy()\n",
    "full_pipeline = create_pipeline(housing)\n",
    "housing_prepared = full_pipeline.fit_transform(housing) # preprocess data"
   ]
  },
  {
   "cell_type": "code",
   "execution_count": null,
   "id": "7f072abc",
   "metadata": {},
   "outputs": [],
   "source": [
    "# linear regression model\n",
    "from sklearn.linear_model import LinearRegression\n",
    "lin_reg = LinearRegression()\n",
    "lin_reg.fit(housing_prepared, housing_labels)\n",
    "some_data = housing.iloc[:5]\n",
    "some_labels = housing_labels.iloc[:5]\n",
    "some_data_prepared = full_pipeline.transform(some_data)\n",
    "lin_reg.predict(some_data_prepared)\n",
    "print(\"Predictions:\", lin_reg.predict(some_data_prepared))\n",
    "print(\"Labels:\", list(some_labels))\n",
    "# get error\n",
    "housing_predictions = lin_reg.predict(housing_prepared)\n",
    "lin_mse = mean_squared_error(housing_labels, housing_predictions)\n",
    "lin_rmse = np.sqrt(lin_mse)\n",
    "print(\"RMSE:\",lin_rmse)"
   ]
  },
  {
   "cell_type": "code",
   "execution_count": null,
   "id": "d31bdd3a",
   "metadata": {},
   "outputs": [],
   "source": [
    "# decision tree model\n",
    "from sklearn.tree import DecisionTreeRegressor\n",
    "tree_reg = DecisionTreeRegressor()\n",
    "tree_reg.fit(housing_prepared, housing_labels)\n",
    "housing_predictions = tree_reg.predict(housing_prepared)\n",
    "tree_mse = mean_squared_error(housing_labels, housing_predictions)\n",
    "tree_rmse = np.sqrt(tree_mse)\n",
    "print(\"RMSE:\",tree_rmse)"
   ]
  },
  {
   "cell_type": "code",
   "execution_count": null,
   "id": "1e74defd",
   "metadata": {},
   "outputs": [],
   "source": [
    "# evaluate with cross-validation\n",
    "# decision tree model\n",
    "scores = cross_val_score(tree_reg, housing_prepared, housing_labels,\n",
    "    scoring=\"neg_mean_squared_error\", cv=10)\n",
    "tree_rmse_scores = np.sqrt(-scores)\n",
    "print(\"### Decision Tree Model ###\")\n",
    "print(\"Scores:\", tree_rmse_scores)\n",
    "print(\"Mean:\", tree_rmse_scores.mean())\n",
    "print(\"Standard deviation:\", tree_rmse_scores.std())\n",
    "\n",
    "# linear regression model\n",
    "print(\"\")\n",
    "lin_scores = cross_val_score(lin_reg, housing_prepared, housing_labels,\n",
    "    scoring=\"neg_mean_squared_error\", cv=10)\n",
    "lin_rmse_scores = np.sqrt(-lin_scores)\n",
    "print(\"### Linear Regression Model ###\")\n",
    "print(\"Scores:\", lin_rmse_scores)\n",
    "print(\"Mean:\", lin_rmse_scores.mean())\n",
    "print(\"Standard deviation:\", lin_rmse_scores.std())"
   ]
  },
  {
   "cell_type": "code",
   "execution_count": 8,
   "id": "e94383cc",
   "metadata": {},
   "outputs": [
    {
     "name": "stdout",
     "output_type": "stream",
     "text": [
      "### Random Forest Model ###\n",
      "RMSE: 18696.805459159288\n",
      "Scores: [49186.19171334 47478.38283589 49693.18864527 52487.66495968\n",
      " 49721.62461591 53367.78057844 49087.90122396 48089.31449078\n",
      " 53219.46187941 50693.61539868]\n",
      "Mean: 50302.51263413594\n",
      "Standard deviation: 1978.292889242589\n"
     ]
    }
   ],
   "source": [
    "from sklearn.ensemble import RandomForestRegressor\n",
    "forest_reg = RandomForestRegressor()\n",
    "forest_reg.fit(housing_prepared, housing_labels)\n",
    "housing_predictions = forest_reg.predict(housing_prepared)\n",
    "forest_mse = mean_squared_error(housing_labels, housing_predictions)\n",
    "forest_rmse = np.sqrt(forest_mse)\n",
    "forest_scores = cross_val_score(forest_reg, housing_prepared, housing_labels,\n",
    "    scoring=\"neg_mean_squared_error\", cv=10)\n",
    "forest_rmse_scores = np.sqrt(-forest_scores)\n",
    "print(\"### Random Forest Model ###\")\n",
    "print(\"RMSE:\",forest_rmse)\n",
    "print(\"Scores:\", forest_rmse_scores)\n",
    "print(\"Mean:\", forest_rmse_scores.mean())\n",
    "print(\"Standard deviation:\", forest_rmse_scores.std())"
   ]
  },
  {
   "cell_type": "code",
   "execution_count": 9,
   "id": "e5442277",
   "metadata": {},
   "outputs": [
    {
     "name": "stdout",
     "output_type": "stream",
     "text": [
      "{'max_features': 6, 'n_estimators': 30}\n",
      "RandomForestRegressor(max_features=6, n_estimators=30)\n",
      "65439.981694325106 {'max_features': 2, 'n_estimators': 3}\n",
      "55565.02373837062 {'max_features': 2, 'n_estimators': 10}\n",
      "53002.712554244965 {'max_features': 2, 'n_estimators': 30}\n",
      "61248.122592698106 {'max_features': 4, 'n_estimators': 3}\n",
      "53099.59596269557 {'max_features': 4, 'n_estimators': 10}\n",
      "50214.92965573183 {'max_features': 4, 'n_estimators': 30}\n",
      "58821.449005313436 {'max_features': 6, 'n_estimators': 3}\n",
      "52445.97986151492 {'max_features': 6, 'n_estimators': 10}\n",
      "50046.663965280204 {'max_features': 6, 'n_estimators': 30}\n",
      "58772.185314120354 {'max_features': 8, 'n_estimators': 3}\n",
      "52147.32762326264 {'max_features': 8, 'n_estimators': 10}\n",
      "50091.12542642831 {'max_features': 8, 'n_estimators': 30}\n",
      "62621.0615429922 {'bootstrap': False, 'max_features': 2, 'n_estimators': 3}\n",
      "54232.378064182696 {'bootstrap': False, 'max_features': 2, 'n_estimators': 10}\n",
      "59998.25156193834 {'bootstrap': False, 'max_features': 3, 'n_estimators': 3}\n",
      "52889.31286621383 {'bootstrap': False, 'max_features': 3, 'n_estimators': 10}\n",
      "59827.83582649635 {'bootstrap': False, 'max_features': 4, 'n_estimators': 3}\n",
      "51874.86532151156 {'bootstrap': False, 'max_features': 4, 'n_estimators': 10}\n"
     ]
    }
   ],
   "source": [
    "from sklearn.ensemble import RandomForestRegressor\n",
    "from sklearn.model_selection import GridSearchCV\n",
    "param_grid = [\n",
    "    {'n_estimators': [3, 10, 30], 'max_features': [2, 4, 6, 8]},\n",
    "    {'bootstrap': [False], 'n_estimators': [3, 10], 'max_features': [2, 3, 4]},\n",
    "]\n",
    "forest_reg = RandomForestRegressor()\n",
    "grid_search = GridSearchCV(forest_reg, param_grid, cv=5,\n",
    "    scoring='neg_mean_squared_error', return_train_score=True)\n",
    "grid_search.fit(housing_prepared, housing_labels)\n",
    "print(grid_search.best_params_)\n",
    "print(grid_search.best_estimator_)\n",
    "cvres = grid_search.cv_results_\n",
    "for mean_score, params in zip(cvres[\"mean_test_score\"], cvres[\"params\"]):\n",
    "    print(np.sqrt(-mean_score), params)"
   ]
  },
  {
   "cell_type": "code",
   "execution_count": 11,
   "id": "ccd79232",
   "metadata": {},
   "outputs": [
    {
     "data": {
      "text/plain": [
       "[(0.3626678059577339, 'median_income'),\n",
       " (0.14711232471098867, 'INLAND'),\n",
       " (0.1132967657016451, 'pop_per_hhold'),\n",
       " (0.07231957988658588, 'bedrooms_per_room'),\n",
       " (0.07147764394143201, 'longitude'),\n",
       " (0.06535715696214901, 'latitude'),\n",
       " (0.045846725342648366, 'rooms_per_hhold'),\n",
       " (0.042250379584616256, 'housing_median_age'),\n",
       " (0.01748409825120641, 'population'),\n",
       " (0.016831263172775238, 'total_rooms'),\n",
       " (0.016633239768317307, 'households'),\n",
       " (0.016602148542185773, 'total_bedrooms'),\n",
       " (0.005126108119813327, '<1H OCEAN'),\n",
       " (0.005024119107436379, 'NEAR OCEAN'),\n",
       " (0.0018839723526366844, 'NEAR BAY'),\n",
       " (8.666859782967772e-05, 'ISLAND')]"
      ]
     },
     "execution_count": 11,
     "metadata": {},
     "output_type": "execute_result"
    }
   ],
   "source": [
    "# attribute importance\n",
    "feature_importances = grid_search.best_estimator_.feature_importances_\n",
    "extra_attribs = [\"rooms_per_hhold\", \"pop_per_hhold\", \"bedrooms_per_room\"]\n",
    "cat_encoder = full_pipeline.named_transformers_[\"cat\"]\n",
    "cat_one_hot_attribs = list(cat_encoder.categories_[0])\n",
    "num_attribs = list(housing.drop(\"ocean_proximity\", axis=1))\n",
    "attributes = num_attribs + extra_attribs + cat_one_hot_attribs\n",
    "sorted(zip(feature_importances, attributes), reverse=True)"
   ]
  },
  {
   "cell_type": "code",
   "execution_count": 16,
   "id": "8cba7fe5",
   "metadata": {},
   "outputs": [
    {
     "name": "stdout",
     "output_type": "stream",
     "text": [
      "RMSE: 48167.09792720746\n",
      "95% confident interval: [46113.96735506444, 50136.22104062501]\n"
     ]
    }
   ],
   "source": [
    "# evauate in test set\n",
    "final_model = grid_search.best_estimator_\n",
    "X_test = strat_test_set.drop(\"median_house_value\", axis=1)\n",
    "y_test = strat_test_set[\"median_house_value\"].copy()\n",
    "X_test_prepared = full_pipeline.transform(X_test)\n",
    "final_predictions = final_model.predict(X_test_prepared)\n",
    "final_mse = mean_squared_error(y_test, final_predictions)\n",
    "final_rmse = np.sqrt(final_mse)\n",
    "print(\"RMSE:\",final_rmse)\n",
    "# 95% confident interal\n",
    "from scipy import stats\n",
    "confidence = 0.95\n",
    "squared_errors = (final_predictions - y_test) ** 2\n",
    "conf95 = np.sqrt(stats.t.interval(confidence, len(squared_errors) - 1,\n",
    "    loc=squared_errors.mean(), scale=stats.sem(squared_errors)))\n",
    "print(\"95% confident interval:\", list(conf95))"
   ]
  },
  {
   "cell_type": "code",
   "execution_count": null,
   "id": "dec268e8",
   "metadata": {},
   "outputs": [],
   "source": []
  }
 ],
 "metadata": {
  "kernelspec": {
   "display_name": "Python 3 (ipykernel)",
   "language": "python",
   "name": "python3"
  },
  "language_info": {
   "codemirror_mode": {
    "name": "ipython",
    "version": 3
   },
   "file_extension": ".py",
   "mimetype": "text/x-python",
   "name": "python",
   "nbconvert_exporter": "python",
   "pygments_lexer": "ipython3",
   "version": "3.10.6"
  }
 },
 "nbformat": 4,
 "nbformat_minor": 5
}
