{
 "cells": [
  {
   "cell_type": "code",
   "execution_count": 1,
   "id": "0bdc32c0-bf5e-4e73-850f-f2ec611b2d1f",
   "metadata": {},
   "outputs": [],
   "source": [
    "from load_dataset import load_dataset\n",
    "X, y = load_dataset()"
   ]
  },
  {
   "cell_type": "code",
   "execution_count": 2,
   "id": "196c45cb-72e4-4711-b706-b5d433766e79",
   "metadata": {},
   "outputs": [
    {
     "name": "stdout",
     "output_type": "stream",
     "text": [
      "data size: (70000, 784)\n",
      "target size: (70000,)\n"
     ]
    }
   ],
   "source": [
    "# get data size\n",
    "print(\"data size:\", X.shape)\n",
    "print(\"target size:\", y.shape)"
   ]
  },
  {
   "cell_type": "code",
   "execution_count": 3,
   "id": "a13fe7d6-5f9b-431b-bf37-ffd8e1f8f47e",
   "metadata": {},
   "outputs": [
    {
     "data": {
      "application/vnd.jupyter.widget-view+json": {
       "model_id": "5ec077ab65204b3a8c310f15e7be7878",
       "version_major": 2,
       "version_minor": 0
      },
      "text/plain": [
       "interactive(children=(BoundedIntText(value=0, description='Data index:', max=69999), Output()), _dom_classes=(…"
      ]
     },
     "execution_count": 3,
     "metadata": {},
     "output_type": "execute_result"
    }
   ],
   "source": [
    "# plot a data sample\n",
    "import matplotlib.pyplot as plt\n",
    "import ipywidgets as widgets\n",
    "from ipywidgets import interactive\n",
    "\n",
    "# ploting function\n",
    "def plot(i):\n",
    "    some_digit = X[i]\n",
    "    some_digit_image = some_digit.reshape(28, 28)\n",
    "    plt.imshow(some_digit_image, cmap=\"binary\")\n",
    "    plt.axis(\"off\")\n",
    "    plt.show()\n",
    "    print(y[i])\n",
    "\n",
    "# widget helper\n",
    "wid = widgets.BoundedIntText(value=0,min=0,max=len(y)-1,step=1,description='Data index:',disabled=False)\n",
    "gui = interactive(plot, i=wid)\n",
    "gui"
   ]
  },
  {
   "cell_type": "code",
   "execution_count": null,
   "id": "dceec8c3-182b-4570-8a18-7ef8a9e038cd",
   "metadata": {},
   "outputs": [],
   "source": []
  }
 ],
 "metadata": {
  "kernelspec": {
   "display_name": "Python 3 (ipykernel)",
   "language": "python",
   "name": "python3"
  },
  "language_info": {
   "codemirror_mode": {
    "name": "ipython",
    "version": 3
   },
   "file_extension": ".py",
   "mimetype": "text/x-python",
   "name": "python",
   "nbconvert_exporter": "python",
   "pygments_lexer": "ipython3",
   "version": "3.10.6"
  }
 },
 "nbformat": 4,
 "nbformat_minor": 5
}
